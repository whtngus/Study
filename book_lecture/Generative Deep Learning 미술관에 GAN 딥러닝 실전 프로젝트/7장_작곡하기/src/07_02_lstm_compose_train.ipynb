{
 "cells": [
  {
   "cell_type": "markdown",
   "metadata": {},
   "source": [
    "# 작곡: 음악을 생성하는 모델을 훈련하기"
   ]
  },
  {
   "cell_type": "code",
   "execution_count": 1,
   "metadata": {},
   "outputs": [
    {
     "name": "stderr",
     "output_type": "stream",
     "text": [
      "Using TensorFlow backend.\n",
      "/home/haesun/github/GDL_code/env/lib/python3.7/site-packages/tensorflow/python/framework/dtypes.py:516: FutureWarning: Passing (type, 1) or '1type' as a synonym of type is deprecated; in a future version of numpy, it will be understood as (type, (1,)) / '(1,)type'.\n",
      "  _np_qint8 = np.dtype([(\"qint8\", np.int8, 1)])\n",
      "/home/haesun/github/GDL_code/env/lib/python3.7/site-packages/tensorflow/python/framework/dtypes.py:517: FutureWarning: Passing (type, 1) or '1type' as a synonym of type is deprecated; in a future version of numpy, it will be understood as (type, (1,)) / '(1,)type'.\n",
      "  _np_quint8 = np.dtype([(\"quint8\", np.uint8, 1)])\n",
      "/home/haesun/github/GDL_code/env/lib/python3.7/site-packages/tensorflow/python/framework/dtypes.py:518: FutureWarning: Passing (type, 1) or '1type' as a synonym of type is deprecated; in a future version of numpy, it will be understood as (type, (1,)) / '(1,)type'.\n",
      "  _np_qint16 = np.dtype([(\"qint16\", np.int16, 1)])\n",
      "/home/haesun/github/GDL_code/env/lib/python3.7/site-packages/tensorflow/python/framework/dtypes.py:519: FutureWarning: Passing (type, 1) or '1type' as a synonym of type is deprecated; in a future version of numpy, it will be understood as (type, (1,)) / '(1,)type'.\n",
      "  _np_quint16 = np.dtype([(\"quint16\", np.uint16, 1)])\n",
      "/home/haesun/github/GDL_code/env/lib/python3.7/site-packages/tensorflow/python/framework/dtypes.py:520: FutureWarning: Passing (type, 1) or '1type' as a synonym of type is deprecated; in a future version of numpy, it will be understood as (type, (1,)) / '(1,)type'.\n",
      "  _np_qint32 = np.dtype([(\"qint32\", np.int32, 1)])\n",
      "/home/haesun/github/GDL_code/env/lib/python3.7/site-packages/tensorflow/python/framework/dtypes.py:525: FutureWarning: Passing (type, 1) or '1type' as a synonym of type is deprecated; in a future version of numpy, it will be understood as (type, (1,)) / '(1,)type'.\n",
      "  np_resource = np.dtype([(\"resource\", np.ubyte, 1)])\n",
      "/home/haesun/github/GDL_code/env/lib/python3.7/site-packages/tensorboard/compat/tensorflow_stub/dtypes.py:541: FutureWarning: Passing (type, 1) or '1type' as a synonym of type is deprecated; in a future version of numpy, it will be understood as (type, (1,)) / '(1,)type'.\n",
      "  _np_qint8 = np.dtype([(\"qint8\", np.int8, 1)])\n",
      "/home/haesun/github/GDL_code/env/lib/python3.7/site-packages/tensorboard/compat/tensorflow_stub/dtypes.py:542: FutureWarning: Passing (type, 1) or '1type' as a synonym of type is deprecated; in a future version of numpy, it will be understood as (type, (1,)) / '(1,)type'.\n",
      "  _np_quint8 = np.dtype([(\"quint8\", np.uint8, 1)])\n",
      "/home/haesun/github/GDL_code/env/lib/python3.7/site-packages/tensorboard/compat/tensorflow_stub/dtypes.py:543: FutureWarning: Passing (type, 1) or '1type' as a synonym of type is deprecated; in a future version of numpy, it will be understood as (type, (1,)) / '(1,)type'.\n",
      "  _np_qint16 = np.dtype([(\"qint16\", np.int16, 1)])\n",
      "/home/haesun/github/GDL_code/env/lib/python3.7/site-packages/tensorboard/compat/tensorflow_stub/dtypes.py:544: FutureWarning: Passing (type, 1) or '1type' as a synonym of type is deprecated; in a future version of numpy, it will be understood as (type, (1,)) / '(1,)type'.\n",
      "  _np_quint16 = np.dtype([(\"quint16\", np.uint16, 1)])\n",
      "/home/haesun/github/GDL_code/env/lib/python3.7/site-packages/tensorboard/compat/tensorflow_stub/dtypes.py:545: FutureWarning: Passing (type, 1) or '1type' as a synonym of type is deprecated; in a future version of numpy, it will be understood as (type, (1,)) / '(1,)type'.\n",
      "  _np_qint32 = np.dtype([(\"qint32\", np.int32, 1)])\n",
      "/home/haesun/github/GDL_code/env/lib/python3.7/site-packages/tensorboard/compat/tensorflow_stub/dtypes.py:550: FutureWarning: Passing (type, 1) or '1type' as a synonym of type is deprecated; in a future version of numpy, it will be understood as (type, (1,)) / '(1,)type'.\n",
      "  np_resource = np.dtype([(\"resource\", np.ubyte, 1)])\n"
     ]
    }
   ],
   "source": [
    "import os\n",
    "import pickle\n",
    "import numpy\n",
    "from music21 import note, chord\n",
    "\n",
    "from keras.callbacks import ModelCheckpoint, EarlyStopping\n",
    "from keras.utils import plot_model\n",
    "\n",
    "from models.RNNAttention import get_distinct, create_lookups, prepare_sequences, get_music_list, create_network"
   ]
  },
  {
   "cell_type": "markdown",
   "metadata": {},
   "source": [
    "## 파라미터 설정"
   ]
  },
  {
   "cell_type": "code",
   "execution_count": 2,
   "metadata": {},
   "outputs": [],
   "source": [
    "# 실행 파라미터\n",
    "section = 'compose'\n",
    "run_id = '0006'\n",
    "music_name = 'cello'\n",
    "\n",
    "run_folder = 'run/{}/'.format(section)\n",
    "run_folder += '_'.join([run_id, music_name])\n",
    "\n",
    "\n",
    "store_folder = os.path.join(run_folder, 'store')\n",
    "data_folder = os.path.join('data', music_name)\n",
    "\n",
    "if not os.path.exists(run_folder):\n",
    "    os.mkdir(run_folder)\n",
    "    os.mkdir(os.path.join(run_folder, 'store'))\n",
    "    os.mkdir(os.path.join(run_folder, 'output'))\n",
    "    os.mkdir(os.path.join(run_folder, 'weights'))\n",
    "    os.mkdir(os.path.join(run_folder, 'viz'))\n",
    "    \n",
    "\n",
    "\n",
    "mode = 'build' # 'load' # \n",
    "\n",
    "# 데이터 파라미터\n",
    "intervals = range(1)\n",
    "seq_len = 32\n",
    "\n",
    "# 하이퍼퍼라미터\n",
    "embed_size = 100\n",
    "rnn_units = 256\n",
    "use_attention = True"
   ]
  },
  {
   "cell_type": "markdown",
   "metadata": {},
   "source": [
    "## 악보 추출"
   ]
  },
  {
   "cell_type": "code",
   "execution_count": 3,
   "metadata": {},
   "outputs": [
    {
     "name": "stdout",
     "output_type": "stream",
     "text": [
      "1 files in total\n",
      "1 Parsing data/cello/cs1-2all.mid\n"
     ]
    }
   ],
   "source": [
    "if mode == 'build':\n",
    "    \n",
    "    music_list, parser = get_music_list(data_folder)\n",
    "    print(len(music_list), 'files in total')\n",
    "\n",
    "    notes = []\n",
    "    durations = []\n",
    "\n",
    "    for i, file in enumerate(music_list):\n",
    "        print(i+1, \"Parsing %s\" % file)\n",
    "        original_score = parser.parse(file).chordify()\n",
    "        \n",
    "\n",
    "        for interval in intervals:\n",
    "\n",
    "            score = original_score.transpose(interval)\n",
    "\n",
    "            notes.extend(['START'] * seq_len)\n",
    "            durations.extend([0]* seq_len)\n",
    "\n",
    "            for element in score.flat:\n",
    "                \n",
    "                if isinstance(element, note.Note):\n",
    "                    if element.isRest:\n",
    "                        notes.append(str(element.name))\n",
    "                        durations.append(element.duration.quarterLength)\n",
    "                    else:\n",
    "                        notes.append(str(element.nameWithOctave))\n",
    "                        durations.append(element.duration.quarterLength)\n",
    "\n",
    "                if isinstance(element, chord.Chord):\n",
    "                    notes.append('.'.join(n.nameWithOctave for n in element.pitches))\n",
    "                    durations.append(element.duration.quarterLength)\n",
    "\n",
    "    with open(os.path.join(store_folder, 'notes'), 'wb') as f:\n",
    "        pickle.dump(notes, f) #['G2', 'D3', 'B3', 'A3', 'B3', 'D3', 'B3', 'D3', 'G2',...]\n",
    "    with open(os.path.join(store_folder, 'durations'), 'wb') as f:\n",
    "        pickle.dump(durations, f) \n",
    "else:\n",
    "    with open(os.path.join(store_folder, 'notes'), 'rb') as f:\n",
    "        notes = pickle.load(f) #['G2', 'D3', 'B3', 'A3', 'B3', 'D3', 'B3', 'D3', 'G2',...]\n",
    "    with open(os.path.join(store_folder, 'durations'), 'rb') as f:\n",
    "        durations = pickle.load(f) "
   ]
  },
  {
   "cell_type": "markdown",
   "metadata": {},
   "source": [
    "## 룩업 테이블 만들기"
   ]
  },
  {
   "cell_type": "code",
   "execution_count": 4,
   "metadata": {},
   "outputs": [],
   "source": [
    "# 고유한 음표와 박자 얻어오기\n",
    "note_names, n_notes = get_distinct(notes)\n",
    "duration_names, n_durations = get_distinct(durations)\n",
    "distincts = [note_names, n_notes, duration_names, n_durations]\n",
    "\n",
    "with open(os.path.join(store_folder, 'distincts'), 'wb') as f:\n",
    "    pickle.dump(distincts, f)\n",
    "\n",
    "# 음표와 박자 룩업 딕셔너리 만들고 저장하기\n",
    "note_to_int, int_to_note = create_lookups(note_names)\n",
    "duration_to_int, int_to_duration = create_lookups(duration_names)\n",
    "lookups = [note_to_int, int_to_note, duration_to_int, int_to_duration]\n",
    "\n",
    "with open(os.path.join(store_folder, 'lookups'), 'wb') as f:\n",
    "    pickle.dump(lookups, f)"
   ]
  },
  {
   "cell_type": "code",
   "execution_count": 5,
   "metadata": {},
   "outputs": [
    {
     "name": "stdout",
     "output_type": "stream",
     "text": [
      "\n",
      "note_to_int\n"
     ]
    },
    {
     "data": {
      "text/plain": [
       "{'A2': 0,\n",
       " 'A2.E3.A3': 1,\n",
       " 'A2.E3.C4': 2,\n",
       " 'A3': 3,\n",
       " 'B-3': 4,\n",
       " 'B2': 5,\n",
       " 'B3': 6,\n",
       " 'C#3': 7,\n",
       " 'C#4': 8,\n",
       " 'C3': 9,\n",
       " 'C4': 10,\n",
       " 'D2': 11,\n",
       " 'D3': 12,\n",
       " 'D3.A3': 13,\n",
       " 'D4': 14,\n",
       " 'E-3': 15,\n",
       " 'E2': 16,\n",
       " 'E3': 17,\n",
       " 'E3.A3': 18,\n",
       " 'E3.B3': 19,\n",
       " 'E4': 20,\n",
       " 'F#2': 21,\n",
       " 'F#3': 22,\n",
       " 'F#4': 23,\n",
       " 'F3': 24,\n",
       " 'F4': 25,\n",
       " 'G#2': 26,\n",
       " 'G#3': 27,\n",
       " 'G2': 28,\n",
       " 'G2.D3.B3': 29,\n",
       " 'G3': 30,\n",
       " 'G4': 31,\n",
       " 'START': 32}"
      ]
     },
     "execution_count": 5,
     "metadata": {},
     "output_type": "execute_result"
    }
   ],
   "source": [
    "print('\\nnote_to_int')\n",
    "note_to_int"
   ]
  },
  {
   "cell_type": "code",
   "execution_count": 6,
   "metadata": {},
   "outputs": [
    {
     "name": "stdout",
     "output_type": "stream",
     "text": [
      "\n",
      "duration_to_int\n"
     ]
    },
    {
     "data": {
      "text/plain": [
       "{0: 0, 0.25: 1, 0.5: 2, Fraction(2, 3): 3, 0.75: 4, 1.0: 5, 1.25: 6}"
      ]
     },
     "execution_count": 6,
     "metadata": {},
     "output_type": "execute_result"
    }
   ],
   "source": [
    "print('\\nduration_to_int')\n",
    "duration_to_int"
   ]
  },
  {
   "cell_type": "markdown",
   "metadata": {},
   "source": [
    "## 신경망에 사용할 시퀀스 준비하기"
   ]
  },
  {
   "cell_type": "code",
   "execution_count": 7,
   "metadata": {},
   "outputs": [],
   "source": [
    "network_input, network_output = prepare_sequences(notes, durations, lookups, distincts, seq_len)"
   ]
  },
  {
   "cell_type": "code",
   "execution_count": 8,
   "metadata": {},
   "outputs": [
    {
     "name": "stdout",
     "output_type": "stream",
     "text": [
      "pitch input\n",
      "[32 32 32 32 32 32 32 32 32 32 32 32 32 32 32 32 32 32 32 32 32 32 32 32\n",
      " 32 32 32 32 32 32 32 32]\n",
      "duration input\n",
      "[0 0 0 0 0 0 0 0 0 0 0 0 0 0 0 0 0 0 0 0 0 0 0 0 0 0 0 0 0 0 0 0]\n",
      "pitch output\n",
      "[0. 0. 0. 0. 0. 0. 1. 0. 0. 0. 0. 0. 0. 0. 0. 0. 0. 0. 0. 0. 0. 0. 0. 0.\n",
      " 0. 0. 0. 0. 0. 0. 0. 0. 0.]\n",
      "duration output\n",
      "[0. 1. 0. 0. 0. 0. 0.]\n"
     ]
    }
   ],
   "source": [
    "print('pitch input')\n",
    "print(network_input[0][0])\n",
    "print('duration input')\n",
    "print(network_input[1][0])\n",
    "print('pitch output')\n",
    "print(network_output[0][0])\n",
    "print('duration output')\n",
    "print(network_output[1][0])"
   ]
  },
  {
   "cell_type": "markdown",
   "metadata": {},
   "source": [
    "## 신경망 만들기"
   ]
  },
  {
   "cell_type": "code",
   "execution_count": 9,
   "metadata": {},
   "outputs": [
    {
     "name": "stderr",
     "output_type": "stream",
     "text": [
      "WARNING: Logging before flag parsing goes to stderr.\n",
      "W0923 21:22:35.540700 140547797157696 deprecation_wrapper.py:119] From /home/haesun/github/GDL_code/env/lib/python3.7/site-packages/keras/backend/tensorflow_backend.py:74: The name tf.get_default_graph is deprecated. Please use tf.compat.v1.get_default_graph instead.\n",
      "\n",
      "W0923 21:22:35.555252 140547797157696 deprecation_wrapper.py:119] From /home/haesun/github/GDL_code/env/lib/python3.7/site-packages/keras/backend/tensorflow_backend.py:517: The name tf.placeholder is deprecated. Please use tf.compat.v1.placeholder instead.\n",
      "\n",
      "W0923 21:22:35.572699 140547797157696 deprecation_wrapper.py:119] From /home/haesun/github/GDL_code/env/lib/python3.7/site-packages/keras/backend/tensorflow_backend.py:4138: The name tf.random_uniform is deprecated. Please use tf.random.uniform instead.\n",
      "\n",
      "W0923 21:22:35.983621 140547797157696 deprecation_wrapper.py:119] From /home/haesun/github/GDL_code/env/lib/python3.7/site-packages/keras/optimizers.py:790: The name tf.train.Optimizer is deprecated. Please use tf.compat.v1.train.Optimizer instead.\n",
      "\n",
      "W0923 21:22:35.990451 140547797157696 deprecation_wrapper.py:119] From /home/haesun/github/GDL_code/env/lib/python3.7/site-packages/keras/backend/tensorflow_backend.py:3295: The name tf.log is deprecated. Please use tf.math.log instead.\n",
      "\n"
     ]
    },
    {
     "name": "stdout",
     "output_type": "stream",
     "text": [
      "__________________________________________________________________________________________________\n",
      "Layer (type)                    Output Shape         Param #     Connected to                     \n",
      "==================================================================================================\n",
      "input_1 (InputLayer)            (None, None)         0                                            \n",
      "__________________________________________________________________________________________________\n",
      "input_2 (InputLayer)            (None, None)         0                                            \n",
      "__________________________________________________________________________________________________\n",
      "embedding_1 (Embedding)         (None, None, 100)    3300        input_1[0][0]                    \n",
      "__________________________________________________________________________________________________\n",
      "embedding_2 (Embedding)         (None, None, 100)    700         input_2[0][0]                    \n",
      "__________________________________________________________________________________________________\n",
      "concatenate_1 (Concatenate)     (None, None, 200)    0           embedding_1[0][0]                \n",
      "                                                                 embedding_2[0][0]                \n",
      "__________________________________________________________________________________________________\n",
      "lstm_1 (LSTM)                   (None, None, 256)    467968      concatenate_1[0][0]              \n",
      "__________________________________________________________________________________________________\n",
      "lstm_2 (LSTM)                   (None, None, 256)    525312      lstm_1[0][0]                     \n",
      "__________________________________________________________________________________________________\n",
      "dense_1 (Dense)                 (None, None, 1)      257         lstm_2[0][0]                     \n",
      "__________________________________________________________________________________________________\n",
      "reshape_1 (Reshape)             (None, None)         0           dense_1[0][0]                    \n",
      "__________________________________________________________________________________________________\n",
      "activation_1 (Activation)       (None, None)         0           reshape_1[0][0]                  \n",
      "__________________________________________________________________________________________________\n",
      "repeat_vector_1 (RepeatVector)  (None, 256, None)    0           activation_1[0][0]               \n",
      "__________________________________________________________________________________________________\n",
      "permute_1 (Permute)             (None, None, 256)    0           repeat_vector_1[0][0]            \n",
      "__________________________________________________________________________________________________\n",
      "multiply_1 (Multiply)           (None, None, 256)    0           lstm_2[0][0]                     \n",
      "                                                                 permute_1[0][0]                  \n",
      "__________________________________________________________________________________________________\n",
      "lambda_1 (Lambda)               (None, 256)          0           multiply_1[0][0]                 \n",
      "__________________________________________________________________________________________________\n",
      "pitch (Dense)                   (None, 33)           8481        lambda_1[0][0]                   \n",
      "__________________________________________________________________________________________________\n",
      "duration (Dense)                (None, 7)            1799        lambda_1[0][0]                   \n",
      "==================================================================================================\n",
      "Total params: 1,007,817\n",
      "Trainable params: 1,007,817\n",
      "Non-trainable params: 0\n",
      "__________________________________________________________________________________________________\n"
     ]
    }
   ],
   "source": [
    "model, att_model = create_network(n_notes, n_durations, embed_size, rnn_units, use_attention)\n",
    "model.summary()"
   ]
  },
  {
   "cell_type": "code",
   "execution_count": 10,
   "metadata": {},
   "outputs": [],
   "source": [
    "plot_model(model, to_file=os.path.join(run_folder ,'viz/model.png'), show_shapes = True, show_layer_names = True)"
   ]
  },
  {
   "cell_type": "markdown",
   "metadata": {},
   "source": [
    "## 신경망 훈련하기"
   ]
  },
  {
   "cell_type": "code",
   "execution_count": 11,
   "metadata": {},
   "outputs": [],
   "source": [
    "weights_folder = os.path.join(run_folder, 'weights')\n",
    "# model.load_weights(os.path.join(weights_folder, \"weights.h5\"))"
   ]
  },
  {
   "cell_type": "code",
   "execution_count": 12,
   "metadata": {},
   "outputs": [
    {
     "name": "stderr",
     "output_type": "stream",
     "text": [
      "W0923 21:22:36.149396 140547797157696 deprecation_wrapper.py:119] From /home/haesun/github/GDL_code/env/lib/python3.7/site-packages/keras/backend/tensorflow_backend.py:174: The name tf.get_default_session is deprecated. Please use tf.compat.v1.get_default_session instead.\n",
      "\n",
      "W0923 21:22:36.854011 140547797157696 deprecation.py:323] From /home/haesun/github/GDL_code/env/lib/python3.7/site-packages/tensorflow/python/ops/math_grad.py:1250: add_dispatch_support.<locals>.wrapper (from tensorflow.python.ops.array_ops) is deprecated and will be removed in a future version.\n",
      "Instructions for updating:\n",
      "Use tf.where in 2.0, which has the same broadcast rule as np.where\n"
     ]
    },
    {
     "name": "stdout",
     "output_type": "stream",
     "text": [
      "Train on 732 samples, validate on 184 samples\n",
      "Epoch 1/2000000\n",
      "732/732 [==============================] - 2s 3ms/step - loss: 3.4665 - pitch_loss: 2.9775 - duration_loss: 0.4890 - val_loss: 3.3925 - val_pitch_loss: 2.9883 - val_duration_loss: 0.4042\n",
      "Epoch 2/2000000\n",
      "732/732 [==============================] - 1s 2ms/step - loss: 3.1528 - pitch_loss: 2.8316 - duration_loss: 0.3212 - val_loss: 3.3703 - val_pitch_loss: 2.9626 - val_duration_loss: 0.4077\n",
      "Epoch 3/2000000\n",
      "732/732 [==============================] - 1s 2ms/step - loss: 3.1157 - pitch_loss: 2.8066 - duration_loss: 0.3092 - val_loss: 3.3388 - val_pitch_loss: 2.9333 - val_duration_loss: 0.4055\n",
      "Epoch 4/2000000\n",
      "732/732 [==============================] - 1s 2ms/step - loss: 3.0918 - pitch_loss: 2.7886 - duration_loss: 0.3032 - val_loss: 3.4365 - val_pitch_loss: 3.0038 - val_duration_loss: 0.4327\n",
      "Epoch 5/2000000\n",
      "732/732 [==============================] - 1s 2ms/step - loss: 3.0919 - pitch_loss: 2.7813 - duration_loss: 0.3106 - val_loss: 3.3226 - val_pitch_loss: 2.9107 - val_duration_loss: 0.4118\n",
      "Epoch 6/2000000\n",
      "732/732 [==============================] - 1s 2ms/step - loss: 3.0415 - pitch_loss: 2.7452 - duration_loss: 0.2964 - val_loss: 3.2663 - val_pitch_loss: 2.8848 - val_duration_loss: 0.3816\n",
      "Epoch 7/2000000\n",
      "732/732 [==============================] - 1s 2ms/step - loss: 3.0136 - pitch_loss: 2.7218 - duration_loss: 0.2918 - val_loss: 3.2643 - val_pitch_loss: 2.8884 - val_duration_loss: 0.3759\n",
      "Epoch 8/2000000\n",
      "732/732 [==============================] - 1s 2ms/step - loss: 2.9906 - pitch_loss: 2.7045 - duration_loss: 0.2861 - val_loss: 3.2998 - val_pitch_loss: 2.9222 - val_duration_loss: 0.3775\n",
      "Epoch 9/2000000\n",
      "732/732 [==============================] - 1s 2ms/step - loss: 2.9638 - pitch_loss: 2.6754 - duration_loss: 0.2884 - val_loss: 3.3034 - val_pitch_loss: 2.9465 - val_duration_loss: 0.3568\n",
      "Epoch 10/2000000\n",
      "732/732 [==============================] - 1s 2ms/step - loss: 2.9389 - pitch_loss: 2.6627 - duration_loss: 0.2762 - val_loss: 3.2523 - val_pitch_loss: 2.8905 - val_duration_loss: 0.3618\n",
      "Epoch 11/2000000\n",
      "732/732 [==============================] - 1s 2ms/step - loss: 2.9285 - pitch_loss: 2.6527 - duration_loss: 0.2759 - val_loss: 3.1828 - val_pitch_loss: 2.8242 - val_duration_loss: 0.3586\n",
      "Epoch 12/2000000\n",
      "732/732 [==============================] - 1s 2ms/step - loss: 2.8985 - pitch_loss: 2.6253 - duration_loss: 0.2731 - val_loss: 3.1998 - val_pitch_loss: 2.8185 - val_duration_loss: 0.3813\n",
      "Epoch 13/2000000\n",
      "732/732 [==============================] - 1s 2ms/step - loss: 2.8632 - pitch_loss: 2.6018 - duration_loss: 0.2614 - val_loss: 3.1978 - val_pitch_loss: 2.8238 - val_duration_loss: 0.3740\n",
      "Epoch 14/2000000\n",
      "732/732 [==============================] - 1s 2ms/step - loss: 2.8454 - pitch_loss: 2.5773 - duration_loss: 0.2680 - val_loss: 3.1538 - val_pitch_loss: 2.7739 - val_duration_loss: 0.3799\n",
      "Epoch 15/2000000\n",
      "732/732 [==============================] - 1s 2ms/step - loss: 2.8186 - pitch_loss: 2.5563 - duration_loss: 0.2623 - val_loss: 3.1345 - val_pitch_loss: 2.7661 - val_duration_loss: 0.3684\n",
      "Epoch 16/2000000\n",
      "732/732 [==============================] - 1s 2ms/step - loss: 2.7643 - pitch_loss: 2.5089 - duration_loss: 0.2553 - val_loss: 3.0417 - val_pitch_loss: 2.6815 - val_duration_loss: 0.3602\n",
      "Epoch 17/2000000\n",
      "732/732 [==============================] - 1s 2ms/step - loss: 2.7315 - pitch_loss: 2.4777 - duration_loss: 0.2538 - val_loss: 3.1034 - val_pitch_loss: 2.7230 - val_duration_loss: 0.3804\n",
      "Epoch 18/2000000\n",
      "732/732 [==============================] - 1s 2ms/step - loss: 2.6875 - pitch_loss: 2.4385 - duration_loss: 0.2491 - val_loss: 3.0138 - val_pitch_loss: 2.6501 - val_duration_loss: 0.3637\n",
      "Epoch 19/2000000\n",
      "732/732 [==============================] - 1s 2ms/step - loss: 2.6651 - pitch_loss: 2.4216 - duration_loss: 0.2436 - val_loss: 2.8973 - val_pitch_loss: 2.5509 - val_duration_loss: 0.3465\n",
      "Epoch 20/2000000\n",
      "732/732 [==============================] - 1s 2ms/step - loss: 2.6184 - pitch_loss: 2.3757 - duration_loss: 0.2427 - val_loss: 2.8922 - val_pitch_loss: 2.5434 - val_duration_loss: 0.3487\n",
      "Epoch 21/2000000\n",
      "732/732 [==============================] - 1s 2ms/step - loss: 2.5420 - pitch_loss: 2.3103 - duration_loss: 0.2317 - val_loss: 2.9384 - val_pitch_loss: 2.5657 - val_duration_loss: 0.3727\n",
      "Epoch 22/2000000\n",
      "732/732 [==============================] - 1s 2ms/step - loss: 2.5444 - pitch_loss: 2.3126 - duration_loss: 0.2318 - val_loss: 2.8335 - val_pitch_loss: 2.4928 - val_duration_loss: 0.3407\n",
      "Epoch 23/2000000\n",
      "732/732 [==============================] - 1s 2ms/step - loss: 2.4604 - pitch_loss: 2.2426 - duration_loss: 0.2177 - val_loss: 2.8933 - val_pitch_loss: 2.5251 - val_duration_loss: 0.3682\n",
      "Epoch 24/2000000\n",
      "732/732 [==============================] - 1s 2ms/step - loss: 2.4338 - pitch_loss: 2.2082 - duration_loss: 0.2256 - val_loss: 2.7899 - val_pitch_loss: 2.4537 - val_duration_loss: 0.3362\n",
      "Epoch 25/2000000\n",
      "732/732 [==============================] - 1s 2ms/step - loss: 2.3723 - pitch_loss: 2.1556 - duration_loss: 0.2166 - val_loss: 2.6753 - val_pitch_loss: 2.3442 - val_duration_loss: 0.3311\n",
      "Epoch 26/2000000\n",
      "732/732 [==============================] - 1s 2ms/step - loss: 2.3017 - pitch_loss: 2.0974 - duration_loss: 0.2043 - val_loss: 2.6355 - val_pitch_loss: 2.3321 - val_duration_loss: 0.3034\n",
      "Epoch 27/2000000\n",
      "732/732 [==============================] - 1s 2ms/step - loss: 2.2673 - pitch_loss: 2.0652 - duration_loss: 0.2020 - val_loss: 2.5532 - val_pitch_loss: 2.2409 - val_duration_loss: 0.3123\n",
      "Epoch 28/2000000\n",
      "732/732 [==============================] - 1s 2ms/step - loss: 2.1825 - pitch_loss: 1.9913 - duration_loss: 0.1912 - val_loss: 2.4919 - val_pitch_loss: 2.2037 - val_duration_loss: 0.2882\n",
      "Epoch 29/2000000\n",
      "732/732 [==============================] - 1s 2ms/step - loss: 2.1481 - pitch_loss: 1.9731 - duration_loss: 0.1750 - val_loss: 2.4050 - val_pitch_loss: 2.1124 - val_duration_loss: 0.2926\n",
      "Epoch 30/2000000\n",
      "732/732 [==============================] - 1s 2ms/step - loss: 2.0591 - pitch_loss: 1.8842 - duration_loss: 0.1750 - val_loss: 2.4220 - val_pitch_loss: 2.1515 - val_duration_loss: 0.2706\n",
      "Epoch 31/2000000\n",
      "732/732 [==============================] - 1s 2ms/step - loss: 2.0205 - pitch_loss: 1.8595 - duration_loss: 0.1610 - val_loss: 2.3726 - val_pitch_loss: 2.0642 - val_duration_loss: 0.3084\n",
      "Epoch 32/2000000\n",
      "732/732 [==============================] - 1s 2ms/step - loss: 1.9686 - pitch_loss: 1.8081 - duration_loss: 0.1605 - val_loss: 2.1655 - val_pitch_loss: 1.9236 - val_duration_loss: 0.2419\n",
      "Epoch 33/2000000\n",
      "732/732 [==============================] - 1s 2ms/step - loss: 1.9092 - pitch_loss: 1.7560 - duration_loss: 0.1532 - val_loss: 2.1132 - val_pitch_loss: 1.8884 - val_duration_loss: 0.2248\n",
      "Epoch 34/2000000\n",
      "732/732 [==============================] - 1s 2ms/step - loss: 1.8270 - pitch_loss: 1.6847 - duration_loss: 0.1424 - val_loss: 2.0626 - val_pitch_loss: 1.8394 - val_duration_loss: 0.2232\n",
      "Epoch 35/2000000\n",
      "732/732 [==============================] - 1s 2ms/step - loss: 1.8069 - pitch_loss: 1.6568 - duration_loss: 0.1501 - val_loss: 2.1073 - val_pitch_loss: 1.8957 - val_duration_loss: 0.2116\n",
      "Epoch 36/2000000\n",
      "732/732 [==============================] - 1s 2ms/step - loss: 1.7075 - pitch_loss: 1.5750 - duration_loss: 0.1325 - val_loss: 2.0514 - val_pitch_loss: 1.8152 - val_duration_loss: 0.2362\n",
      "Epoch 37/2000000\n",
      "732/732 [==============================] - 1s 2ms/step - loss: 1.6627 - pitch_loss: 1.5344 - duration_loss: 0.1283 - val_loss: 1.8499 - val_pitch_loss: 1.6691 - val_duration_loss: 0.1808\n",
      "Epoch 38/2000000\n",
      "732/732 [==============================] - 1s 2ms/step - loss: 1.5846 - pitch_loss: 1.4693 - duration_loss: 0.1153 - val_loss: 1.9853 - val_pitch_loss: 1.7751 - val_duration_loss: 0.2102\n",
      "Epoch 39/2000000\n",
      "732/732 [==============================] - 1s 2ms/step - loss: 1.5260 - pitch_loss: 1.4223 - duration_loss: 0.1037 - val_loss: 1.7804 - val_pitch_loss: 1.6303 - val_duration_loss: 0.1501\n",
      "Epoch 40/2000000\n",
      "732/732 [==============================] - 1s 2ms/step - loss: 1.4816 - pitch_loss: 1.3698 - duration_loss: 0.1118 - val_loss: 1.6851 - val_pitch_loss: 1.5117 - val_duration_loss: 0.1734\n"
     ]
    },
    {
     "name": "stdout",
     "output_type": "stream",
     "text": [
      "Epoch 41/2000000\n",
      "732/732 [==============================] - 1s 2ms/step - loss: 1.3768 - pitch_loss: 1.2810 - duration_loss: 0.0958 - val_loss: 1.5423 - val_pitch_loss: 1.4084 - val_duration_loss: 0.1340\n",
      "Epoch 42/2000000\n",
      "732/732 [==============================] - 1s 2ms/step - loss: 1.3611 - pitch_loss: 1.2687 - duration_loss: 0.0924 - val_loss: 1.5452 - val_pitch_loss: 1.4183 - val_duration_loss: 0.1269\n",
      "Epoch 43/2000000\n",
      "732/732 [==============================] - 1s 2ms/step - loss: 1.3192 - pitch_loss: 1.2306 - duration_loss: 0.0886 - val_loss: 1.5118 - val_pitch_loss: 1.3747 - val_duration_loss: 0.1371\n",
      "Epoch 44/2000000\n",
      "732/732 [==============================] - 1s 2ms/step - loss: 1.2530 - pitch_loss: 1.1809 - duration_loss: 0.0722 - val_loss: 1.4400 - val_pitch_loss: 1.3191 - val_duration_loss: 0.1209\n",
      "Epoch 45/2000000\n",
      "732/732 [==============================] - 1s 2ms/step - loss: 1.2146 - pitch_loss: 1.1366 - duration_loss: 0.0780 - val_loss: 1.3839 - val_pitch_loss: 1.2626 - val_duration_loss: 0.1213\n",
      "Epoch 46/2000000\n",
      "732/732 [==============================] - 1s 2ms/step - loss: 1.1177 - pitch_loss: 1.0474 - duration_loss: 0.0703 - val_loss: 1.3299 - val_pitch_loss: 1.2098 - val_duration_loss: 0.1201\n",
      "Epoch 47/2000000\n",
      "732/732 [==============================] - 1s 2ms/step - loss: 1.1018 - pitch_loss: 1.0415 - duration_loss: 0.0603 - val_loss: 1.2043 - val_pitch_loss: 1.0956 - val_duration_loss: 0.1087\n",
      "Epoch 48/2000000\n",
      "732/732 [==============================] - 1s 2ms/step - loss: 1.0645 - pitch_loss: 1.0008 - duration_loss: 0.0638 - val_loss: 1.2035 - val_pitch_loss: 1.1015 - val_duration_loss: 0.1019\n",
      "Epoch 49/2000000\n",
      "732/732 [==============================] - 1s 2ms/step - loss: 0.9988 - pitch_loss: 0.9389 - duration_loss: 0.0599 - val_loss: 1.0741 - val_pitch_loss: 0.9829 - val_duration_loss: 0.0912\n",
      "Epoch 50/2000000\n",
      "732/732 [==============================] - 1s 2ms/step - loss: 0.9571 - pitch_loss: 0.9017 - duration_loss: 0.0554 - val_loss: 0.9239 - val_pitch_loss: 0.8496 - val_duration_loss: 0.0742\n",
      "Epoch 51/2000000\n",
      "732/732 [==============================] - 1s 2ms/step - loss: 0.9075 - pitch_loss: 0.8556 - duration_loss: 0.0519 - val_loss: 1.2456 - val_pitch_loss: 1.1304 - val_duration_loss: 0.1152\n",
      "Epoch 52/2000000\n",
      "732/732 [==============================] - 1s 2ms/step - loss: 0.8900 - pitch_loss: 0.8425 - duration_loss: 0.0474 - val_loss: 0.7693 - val_pitch_loss: 0.6908 - val_duration_loss: 0.0785\n",
      "Epoch 53/2000000\n",
      "732/732 [==============================] - 1s 2ms/step - loss: 0.8183 - pitch_loss: 0.7752 - duration_loss: 0.0432 - val_loss: 0.9173 - val_pitch_loss: 0.8388 - val_duration_loss: 0.0785\n",
      "Epoch 54/2000000\n",
      "732/732 [==============================] - 1s 2ms/step - loss: 0.7791 - pitch_loss: 0.7438 - duration_loss: 0.0354 - val_loss: 0.7531 - val_pitch_loss: 0.6943 - val_duration_loss: 0.0588\n",
      "Epoch 55/2000000\n",
      "732/732 [==============================] - 1s 2ms/step - loss: 0.7152 - pitch_loss: 0.6773 - duration_loss: 0.0379 - val_loss: 0.7660 - val_pitch_loss: 0.6873 - val_duration_loss: 0.0788\n",
      "Epoch 56/2000000\n",
      "732/732 [==============================] - 1s 2ms/step - loss: 0.7247 - pitch_loss: 0.6891 - duration_loss: 0.0355 - val_loss: 0.5763 - val_pitch_loss: 0.5244 - val_duration_loss: 0.0518\n",
      "Epoch 57/2000000\n",
      "732/732 [==============================] - 1s 2ms/step - loss: 0.6605 - pitch_loss: 0.6225 - duration_loss: 0.0380 - val_loss: 0.6984 - val_pitch_loss: 0.6292 - val_duration_loss: 0.0692\n",
      "Epoch 58/2000000\n",
      "732/732 [==============================] - 1s 2ms/step - loss: 0.6491 - pitch_loss: 0.6136 - duration_loss: 0.0355 - val_loss: 0.5563 - val_pitch_loss: 0.5059 - val_duration_loss: 0.0505\n",
      "Epoch 59/2000000\n",
      "732/732 [==============================] - 1s 2ms/step - loss: 0.5874 - pitch_loss: 0.5456 - duration_loss: 0.0418 - val_loss: 0.4290 - val_pitch_loss: 0.3847 - val_duration_loss: 0.0443\n",
      "Epoch 60/2000000\n",
      "732/732 [==============================] - 1s 2ms/step - loss: 0.5350 - pitch_loss: 0.5009 - duration_loss: 0.0340 - val_loss: 0.4653 - val_pitch_loss: 0.4104 - val_duration_loss: 0.0550\n",
      "Epoch 61/2000000\n",
      "732/732 [==============================] - 1s 2ms/step - loss: 0.5504 - pitch_loss: 0.5185 - duration_loss: 0.0319 - val_loss: 0.5321 - val_pitch_loss: 0.4792 - val_duration_loss: 0.0529\n",
      "Epoch 62/2000000\n",
      "732/732 [==============================] - 1s 2ms/step - loss: 0.5002 - pitch_loss: 0.4713 - duration_loss: 0.0288 - val_loss: 0.4370 - val_pitch_loss: 0.3991 - val_duration_loss: 0.0379\n",
      "Epoch 63/2000000\n",
      "732/732 [==============================] - 1s 2ms/step - loss: 0.5075 - pitch_loss: 0.4719 - duration_loss: 0.0356 - val_loss: 0.4223 - val_pitch_loss: 0.3833 - val_duration_loss: 0.0390\n",
      "Epoch 64/2000000\n",
      "732/732 [==============================] - 1s 2ms/step - loss: 0.4785 - pitch_loss: 0.4489 - duration_loss: 0.0297 - val_loss: 0.2955 - val_pitch_loss: 0.2623 - val_duration_loss: 0.0332\n",
      "Epoch 65/2000000\n",
      "732/732 [==============================] - 1s 2ms/step - loss: 0.4537 - pitch_loss: 0.4335 - duration_loss: 0.0202 - val_loss: 0.2782 - val_pitch_loss: 0.2391 - val_duration_loss: 0.0391\n",
      "Epoch 66/2000000\n",
      "732/732 [==============================] - 1s 2ms/step - loss: 0.3642 - pitch_loss: 0.3443 - duration_loss: 0.0200 - val_loss: 0.2768 - val_pitch_loss: 0.2362 - val_duration_loss: 0.0405\n",
      "Epoch 67/2000000\n",
      "732/732 [==============================] - 1s 2ms/step - loss: 0.5463 - pitch_loss: 0.5020 - duration_loss: 0.0443 - val_loss: 0.2510 - val_pitch_loss: 0.2164 - val_duration_loss: 0.0346\n",
      "Epoch 68/2000000\n",
      "732/732 [==============================] - 1s 2ms/step - loss: 0.3393 - pitch_loss: 0.3115 - duration_loss: 0.0278 - val_loss: 0.3773 - val_pitch_loss: 0.3113 - val_duration_loss: 0.0660\n",
      "Epoch 69/2000000\n",
      "732/732 [==============================] - 1s 2ms/step - loss: 0.4658 - pitch_loss: 0.4243 - duration_loss: 0.0415 - val_loss: 0.3163 - val_pitch_loss: 0.2660 - val_duration_loss: 0.0502\n",
      "Epoch 70/2000000\n",
      "732/732 [==============================] - 1s 2ms/step - loss: 0.3218 - pitch_loss: 0.2942 - duration_loss: 0.0276 - val_loss: 0.1899 - val_pitch_loss: 0.1605 - val_duration_loss: 0.0294\n",
      "Epoch 71/2000000\n",
      "732/732 [==============================] - 1s 2ms/step - loss: 0.3177 - pitch_loss: 0.2994 - duration_loss: 0.0184 - val_loss: 0.1598 - val_pitch_loss: 0.1391 - val_duration_loss: 0.0208\n",
      "Epoch 72/2000000\n",
      "732/732 [==============================] - 1s 2ms/step - loss: 0.3551 - pitch_loss: 0.3355 - duration_loss: 0.0196 - val_loss: 0.2223 - val_pitch_loss: 0.1884 - val_duration_loss: 0.0339\n",
      "Epoch 73/2000000\n",
      "732/732 [==============================] - 1s 2ms/step - loss: 0.3550 - pitch_loss: 0.3260 - duration_loss: 0.0291 - val_loss: 0.2231 - val_pitch_loss: 0.2022 - val_duration_loss: 0.0209\n",
      "Epoch 74/2000000\n",
      "732/732 [==============================] - 1s 2ms/step - loss: 0.2860 - pitch_loss: 0.2643 - duration_loss: 0.0218 - val_loss: 0.2884 - val_pitch_loss: 0.2696 - val_duration_loss: 0.0188\n",
      "Epoch 75/2000000\n",
      "732/732 [==============================] - 1s 2ms/step - loss: 0.3220 - pitch_loss: 0.3028 - duration_loss: 0.0192 - val_loss: 0.2648 - val_pitch_loss: 0.2411 - val_duration_loss: 0.0238\n",
      "Epoch 76/2000000\n",
      "732/732 [==============================] - 1s 2ms/step - loss: 0.2606 - pitch_loss: 0.2453 - duration_loss: 0.0153 - val_loss: 0.2423 - val_pitch_loss: 0.2111 - val_duration_loss: 0.0312\n",
      "Epoch 77/2000000\n",
      "732/732 [==============================] - 1s 2ms/step - loss: 0.2809 - pitch_loss: 0.2624 - duration_loss: 0.0185 - val_loss: 0.1611 - val_pitch_loss: 0.1326 - val_duration_loss: 0.0285\n",
      "Epoch 78/2000000\n",
      "732/732 [==============================] - 1s 2ms/step - loss: 0.2946 - pitch_loss: 0.2744 - duration_loss: 0.0202 - val_loss: 0.1209 - val_pitch_loss: 0.1122 - val_duration_loss: 0.0087\n",
      "Epoch 79/2000000\n",
      "732/732 [==============================] - 1s 2ms/step - loss: 0.2609 - pitch_loss: 0.2481 - duration_loss: 0.0128 - val_loss: 0.1720 - val_pitch_loss: 0.1429 - val_duration_loss: 0.0291\n",
      "Epoch 80/2000000\n",
      "732/732 [==============================] - 1s 2ms/step - loss: 0.2097 - pitch_loss: 0.1976 - duration_loss: 0.0121 - val_loss: 0.5535 - val_pitch_loss: 0.4909 - val_duration_loss: 0.0625\n",
      "Epoch 81/2000000\n",
      "732/732 [==============================] - 1s 2ms/step - loss: 0.2784 - pitch_loss: 0.2641 - duration_loss: 0.0142 - val_loss: 0.1057 - val_pitch_loss: 0.0997 - val_duration_loss: 0.0060\n",
      "Epoch 82/2000000\n",
      "732/732 [==============================] - 1s 2ms/step - loss: 0.2063 - pitch_loss: 0.1926 - duration_loss: 0.0137 - val_loss: 0.1124 - val_pitch_loss: 0.1076 - val_duration_loss: 0.0048\n",
      "Epoch 83/2000000\n",
      "732/732 [==============================] - 1s 2ms/step - loss: 0.2311 - pitch_loss: 0.2197 - duration_loss: 0.0114 - val_loss: 0.0889 - val_pitch_loss: 0.0824 - val_duration_loss: 0.0065\n",
      "Epoch 84/2000000\n",
      "732/732 [==============================] - 1s 2ms/step - loss: 0.2848 - pitch_loss: 0.2568 - duration_loss: 0.0280 - val_loss: 0.1061 - val_pitch_loss: 0.0961 - val_duration_loss: 0.0101\n",
      "Epoch 85/2000000\n",
      "732/732 [==============================] - 1s 2ms/step - loss: 0.2088 - pitch_loss: 0.1969 - duration_loss: 0.0119 - val_loss: 0.0892 - val_pitch_loss: 0.0858 - val_duration_loss: 0.0034\n",
      "Epoch 86/2000000\n",
      "732/732 [==============================] - 1s 2ms/step - loss: 0.2598 - pitch_loss: 0.2255 - duration_loss: 0.0343 - val_loss: 0.3011 - val_pitch_loss: 0.2693 - val_duration_loss: 0.0318\n",
      "Epoch 87/2000000\n",
      "732/732 [==============================] - 1s 2ms/step - loss: 0.1944 - pitch_loss: 0.1738 - duration_loss: 0.0206 - val_loss: 0.1409 - val_pitch_loss: 0.1297 - val_duration_loss: 0.0112\n",
      "Epoch 88/2000000\n",
      "732/732 [==============================] - 1s 2ms/step - loss: 0.2899 - pitch_loss: 0.2741 - duration_loss: 0.0159 - val_loss: 0.0598 - val_pitch_loss: 0.0572 - val_duration_loss: 0.0026\n",
      "Epoch 89/2000000\n",
      "732/732 [==============================] - 1s 2ms/step - loss: 0.1596 - pitch_loss: 0.1492 - duration_loss: 0.0104 - val_loss: 0.0263 - val_pitch_loss: 0.0240 - val_duration_loss: 0.0023\n",
      "Epoch 90/2000000\n",
      "732/732 [==============================] - 1s 2ms/step - loss: 0.1875 - pitch_loss: 0.1719 - duration_loss: 0.0156 - val_loss: 0.3439 - val_pitch_loss: 0.2583 - val_duration_loss: 0.0856\n",
      "Epoch 91/2000000\n",
      "732/732 [==============================] - 1s 2ms/step - loss: 0.3055 - pitch_loss: 0.2664 - duration_loss: 0.0391 - val_loss: 0.0331 - val_pitch_loss: 0.0308 - val_duration_loss: 0.0023\n",
      "Epoch 92/2000000\n",
      "732/732 [==============================] - 1s 2ms/step - loss: 0.1781 - pitch_loss: 0.1687 - duration_loss: 0.0094 - val_loss: 0.0177 - val_pitch_loss: 0.0154 - val_duration_loss: 0.0023\n",
      "Epoch 93/2000000\n",
      "732/732 [==============================] - 1s 2ms/step - loss: 0.2084 - pitch_loss: 0.1990 - duration_loss: 0.0093 - val_loss: 0.1039 - val_pitch_loss: 0.1008 - val_duration_loss: 0.0031\n",
      "Epoch 94/2000000\n",
      "732/732 [==============================] - 1s 2ms/step - loss: 0.2147 - pitch_loss: 0.2029 - duration_loss: 0.0118 - val_loss: 0.0748 - val_pitch_loss: 0.0670 - val_duration_loss: 0.0077\n",
      "Epoch 95/2000000\n",
      "732/732 [==============================] - 1s 2ms/step - loss: 0.1592 - pitch_loss: 0.1493 - duration_loss: 0.0099 - val_loss: 0.1626 - val_pitch_loss: 0.1550 - val_duration_loss: 0.0076\n",
      "Epoch 96/2000000\n",
      "732/732 [==============================] - 1s 2ms/step - loss: 0.2138 - pitch_loss: 0.2016 - duration_loss: 0.0122 - val_loss: 0.1187 - val_pitch_loss: 0.0990 - val_duration_loss: 0.0197\n",
      "Epoch 97/2000000\n",
      "732/732 [==============================] - 1s 2ms/step - loss: 0.1873 - pitch_loss: 0.1548 - duration_loss: 0.0326 - val_loss: 0.0165 - val_pitch_loss: 0.0154 - val_duration_loss: 0.0011\n",
      "Epoch 98/2000000\n",
      "732/732 [==============================] - 1s 2ms/step - loss: 0.1721 - pitch_loss: 0.1621 - duration_loss: 0.0100 - val_loss: 0.0189 - val_pitch_loss: 0.0176 - val_duration_loss: 0.0013\n",
      "Epoch 99/2000000\n",
      "732/732 [==============================] - 1s 2ms/step - loss: 0.1391 - pitch_loss: 0.1307 - duration_loss: 0.0084 - val_loss: 0.2364 - val_pitch_loss: 0.1792 - val_duration_loss: 0.0571\n",
      "Epoch 100/2000000\n",
      "732/732 [==============================] - 1s 2ms/step - loss: 0.2004 - pitch_loss: 0.1881 - duration_loss: 0.0124 - val_loss: 0.0167 - val_pitch_loss: 0.0153 - val_duration_loss: 0.0014\n",
      "Epoch 101/2000000\n",
      "732/732 [==============================] - 1s 2ms/step - loss: 0.1293 - pitch_loss: 0.1208 - duration_loss: 0.0086 - val_loss: 0.0084 - val_pitch_loss: 0.0076 - val_duration_loss: 8.1361e-04\n",
      "Epoch 102/2000000\n",
      "732/732 [==============================] - 1s 2ms/step - loss: 0.1326 - pitch_loss: 0.1250 - duration_loss: 0.0076 - val_loss: 0.0086 - val_pitch_loss: 0.0078 - val_duration_loss: 8.1072e-04\n",
      "Epoch 103/2000000\n",
      "732/732 [==============================] - 1s 2ms/step - loss: 0.2560 - pitch_loss: 0.2274 - duration_loss: 0.0286 - val_loss: 0.0932 - val_pitch_loss: 0.0699 - val_duration_loss: 0.0234\n",
      "Epoch 104/2000000\n",
      "732/732 [==============================] - 1s 2ms/step - loss: 0.1825 - pitch_loss: 0.1569 - duration_loss: 0.0256 - val_loss: 0.0512 - val_pitch_loss: 0.0357 - val_duration_loss: 0.0155\n",
      "Epoch 105/2000000\n",
      "732/732 [==============================] - 1s 2ms/step - loss: 0.1369 - pitch_loss: 0.1208 - duration_loss: 0.0161 - val_loss: 0.0434 - val_pitch_loss: 0.0404 - val_duration_loss: 0.0030\n",
      "Epoch 106/2000000\n",
      "732/732 [==============================] - 1s 2ms/step - loss: 0.2461 - pitch_loss: 0.2315 - duration_loss: 0.0146 - val_loss: 0.1608 - val_pitch_loss: 0.1482 - val_duration_loss: 0.0126\n",
      "Epoch 107/2000000\n",
      "732/732 [==============================] - 1s 2ms/step - loss: 0.1641 - pitch_loss: 0.1499 - duration_loss: 0.0142 - val_loss: 0.0176 - val_pitch_loss: 0.0153 - val_duration_loss: 0.0023\n",
      "Epoch 108/2000000\n",
      "732/732 [==============================] - 1s 2ms/step - loss: 0.1449 - pitch_loss: 0.1362 - duration_loss: 0.0087 - val_loss: 0.1402 - val_pitch_loss: 0.1366 - val_duration_loss: 0.0036\n",
      "Epoch 109/2000000\n",
      "732/732 [==============================] - 1s 2ms/step - loss: 0.1383 - pitch_loss: 0.1298 - duration_loss: 0.0085 - val_loss: 0.0244 - val_pitch_loss: 0.0189 - val_duration_loss: 0.0055\n",
      "Epoch 110/2000000\n",
      "732/732 [==============================] - 1s 2ms/step - loss: 0.1306 - pitch_loss: 0.1218 - duration_loss: 0.0088 - val_loss: 0.0108 - val_pitch_loss: 0.0103 - val_duration_loss: 5.1859e-04\n",
      "Epoch 111/2000000\n",
      "732/732 [==============================] - 1s 2ms/step - loss: 0.1288 - pitch_loss: 0.1210 - duration_loss: 0.0078 - val_loss: 0.0171 - val_pitch_loss: 0.0161 - val_duration_loss: 0.0011\n",
      "Epoch 112/2000000\n",
      "732/732 [==============================] - 1s 2ms/step - loss: 0.1741 - pitch_loss: 0.1645 - duration_loss: 0.0096 - val_loss: 0.1006 - val_pitch_loss: 0.0883 - val_duration_loss: 0.0124\n",
      "Epoch 113/2000000\n",
      "732/732 [==============================] - 1s 2ms/step - loss: 0.2124 - pitch_loss: 0.1881 - duration_loss: 0.0242 - val_loss: 0.0466 - val_pitch_loss: 0.0453 - val_duration_loss: 0.0013\n",
      "Epoch 114/2000000\n",
      "732/732 [==============================] - 1s 2ms/step - loss: 0.1169 - pitch_loss: 0.1096 - duration_loss: 0.0074 - val_loss: 0.0066 - val_pitch_loss: 0.0058 - val_duration_loss: 8.0439e-04\n",
      "Epoch 115/2000000\n",
      "732/732 [==============================] - 1s 2ms/step - loss: 0.1191 - pitch_loss: 0.1113 - duration_loss: 0.0078 - val_loss: 0.0818 - val_pitch_loss: 0.0809 - val_duration_loss: 9.0482e-04\n",
      "Epoch 116/2000000\n",
      "732/732 [==============================] - 1s 2ms/step - loss: 0.2134 - pitch_loss: 0.2035 - duration_loss: 0.0099 - val_loss: 0.0807 - val_pitch_loss: 0.0359 - val_duration_loss: 0.0448\n",
      "Epoch 117/2000000\n",
      "732/732 [==============================] - 1s 2ms/step - loss: 0.1702 - pitch_loss: 0.1576 - duration_loss: 0.0126 - val_loss: 0.0285 - val_pitch_loss: 0.0247 - val_duration_loss: 0.0039\n",
      "Epoch 118/2000000\n",
      "732/732 [==============================] - 1s 2ms/step - loss: 0.1663 - pitch_loss: 0.1583 - duration_loss: 0.0080 - val_loss: 0.0148 - val_pitch_loss: 0.0140 - val_duration_loss: 7.3235e-04\n",
      "Epoch 119/2000000\n",
      "732/732 [==============================] - 1s 2ms/step - loss: 0.1193 - pitch_loss: 0.1117 - duration_loss: 0.0077 - val_loss: 0.2231 - val_pitch_loss: 0.2183 - val_duration_loss: 0.0048\n",
      "Epoch 120/2000000\n",
      "732/732 [==============================] - 1s 2ms/step - loss: 0.1305 - pitch_loss: 0.1228 - duration_loss: 0.0077 - val_loss: 0.2537 - val_pitch_loss: 0.2011 - val_duration_loss: 0.0525\n",
      "Epoch 121/2000000\n"
     ]
    },
    {
     "name": "stdout",
     "output_type": "stream",
     "text": [
      "732/732 [==============================] - 1s 2ms/step - loss: 0.2080 - pitch_loss: 0.2001 - duration_loss: 0.0079 - val_loss: 0.0590 - val_pitch_loss: 0.0584 - val_duration_loss: 5.4350e-04\n",
      "Epoch 122/2000000\n",
      "732/732 [==============================] - 1s 2ms/step - loss: 0.1543 - pitch_loss: 0.1464 - duration_loss: 0.0079 - val_loss: 0.1057 - val_pitch_loss: 0.0868 - val_duration_loss: 0.0190\n",
      "Epoch 123/2000000\n",
      "732/732 [==============================] - 1s 2ms/step - loss: 0.1535 - pitch_loss: 0.1390 - duration_loss: 0.0145 - val_loss: 0.1207 - val_pitch_loss: 0.1141 - val_duration_loss: 0.0066\n",
      "Epoch 124/2000000\n",
      "732/732 [==============================] - 1s 2ms/step - loss: 0.1620 - pitch_loss: 0.1361 - duration_loss: 0.0259 - val_loss: 0.0109 - val_pitch_loss: 0.0100 - val_duration_loss: 8.8783e-04\n"
     ]
    },
    {
     "data": {
      "text/plain": [
       "<keras.callbacks.History at 0x7fd3a410d748>"
      ]
     },
     "execution_count": 12,
     "metadata": {},
     "output_type": "execute_result"
    }
   ],
   "source": [
    "weights_folder = os.path.join(run_folder, 'weights')\n",
    "\n",
    "checkpoint1 = ModelCheckpoint(\n",
    "    os.path.join(weights_folder, \"weights-improvement-{epoch:02d}-{loss:.4f}-bigger.h5\"),\n",
    "    monitor='loss',\n",
    "    verbose=0,\n",
    "    save_best_only=True,\n",
    "    mode='min'\n",
    ")\n",
    "\n",
    "checkpoint2 = ModelCheckpoint(\n",
    "    os.path.join(weights_folder, \"weights.h5\"),\n",
    "    monitor='loss',\n",
    "    verbose=0,\n",
    "    save_best_only=True,\n",
    "    mode='min'\n",
    ")\n",
    "\n",
    "early_stopping = EarlyStopping(\n",
    "    monitor='loss'\n",
    "    , restore_best_weights=True\n",
    "    , patience = 10\n",
    ")\n",
    "\n",
    "\n",
    "callbacks_list = [\n",
    "    checkpoint1\n",
    "    , checkpoint2\n",
    "    , early_stopping\n",
    " ]\n",
    "\n",
    "model.save_weights(os.path.join(weights_folder, \"weights.h5\"))\n",
    "model.fit(network_input, network_output\n",
    "          , epochs=2000000, batch_size=32\n",
    "          , validation_split = 0.2\n",
    "          , callbacks=callbacks_list\n",
    "          , shuffle=True\n",
    "         )\n",
    "\n"
   ]
  }
 ],
 "metadata": {
  "kernelspec": {
   "display_name": "Python 3",
   "language": "python",
   "name": "python3"
  },
  "language_info": {
   "codemirror_mode": {
    "name": "ipython",
    "version": 3
   },
   "file_extension": ".py",
   "mimetype": "text/x-python",
   "name": "python",
   "nbconvert_exporter": "python",
   "pygments_lexer": "ipython3",
   "version": "3.7.3"
  }
 },
 "nbformat": 4,
 "nbformat_minor": 2
}
