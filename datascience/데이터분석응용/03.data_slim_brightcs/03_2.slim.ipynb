{
 "cells": [
  {
   "cell_type": "markdown",
   "metadata": {},
   "source": [
    "# slim\n",
    "\n",
    "tensorflow -> models -> reseaerch 안에 slim 라이브러리가 존재\n",
    "\n",
    "### slim 특징\n",
    "1. 다양한 모델 제공<br>\n",
    "2. 모델의 체크포인트 제공<br>\n",
    "-> 파인튜닝, 트레이닝하는것이 매우 편리함<br>\n",
    "\n",
    "사용하기 위해서 git을 설치해야함 (위치 잘이동후 다운로드 받기) <br>\n",
    "$conda install git <br>\n",
    "git clone https://github.com/tensorflow/models.git<br>\n",
    "\n",
    "다음 작업을 하기위해서는 python path를 잡아줘야함 <br>\n",
    "-> 아나콘다 가사오한경에서 python path 잡기 \n",
    "\n",
    "https://docs.conda.io/projects/conda/en/latest/user-guide/tasks/manage-environments.html <br>\n",
    "1. Locate the directory for the conda environment in your Anaconda Prompt by running in the command shell %CONDA_PREFIX%. <br>\n",
    "-> 아나콘다 환경의 prefix를 보기 <br>\n",
    "echo %CONDA_PREFIX% <br>\n",
    "-> echo에서 나온 경로로 이동 <br>\n",
    "2. Enter that directory and create these subdirectories and files : <br>\n",
    "-> 해당 위치에서 아래 커멘드라인 실행 <br>\n",
    "cd %CONDA_PREFIX% <br>\n",
    "mkdir .\\etc\\conda\\activate.d  <br>\n",
    "mkdir .\\etc\\conda\\deactivate.d <br>\n",
    "type NUL > .\\etc\\conda\\activate.d\\env_vars.bat <br>\n",
    "type NUL > .\\etc\\conda\\deactivate.d\\env_vars.bat <br>\n",
    "\n",
    "3. notepad 열어서 편집하기 <br>\n",
    "- 파일 1  - 가상환경 오픈시 실행하는 코드 <br>\n",
    "notepad .\\etc\\conda\\activate.d\\env_vars.bat <br>\n",
    "-> 메모장이 실행되면 메모장에 아래 내용 붙여넣기, 경로는 내껄로 ! <br>\n",
    "(경로 : git:clone한 곳에서 models/research 임! , ; 로구분하여 research 와 slim 구분하기)<br>\n",
    "set PYTHONPATH=D:\\src\\my\\models\\research;D:\\src\\my\\models\\research\\slim <br>\n",
    "\n",
    "- 파일 2 - 가상환경 닫는경우 실행하는 코드 <br>\n",
    "notepad .\\etc\\conda\\deactivate.d\\env_vars.bat <br>\n",
    "파일1과 같은내용 복사 <br>\n",
    "\n",
    "- 아래 명령어 실행후 conda 가상환경 다시 접속하기 <br>\n",
    "set PYTHONPATH=\n",
    "\n",
    "\n",
    "> 위 실행 후 deactivate activate 시 예시 \n",
    "\n",
    "```\n",
    "(skku) D:\\tool\\conda\\envs\\skku>conda deactivate\n",
    "\n",
    "D:\\tool\\conda\\envs\\skku>set PYTHONPATH=D:\\src\\my\\models\\research;D:\\src\\my\\models\\research\\slim\n",
    "\n",
    "(base) D:\\tool\\conda\\envs\\skku>\n",
    "(base) D:\\tool\\conda\\envs\\skku>\n",
    "(base) D:\\tool\\conda\\envs\\skku>conda activate skku\n",
    "\n",
    "D:\\tool\\conda\\envs\\skku>set PYTHONPATH=D:\\src\\my\\models\\research;D:\\src\\my\\models\\research\\slim\n",
    "\n",
    "(skku) D:\\tool\\conda\\envs\\skku>\n",
    "```"
   ]
  },
  {
   "cell_type": "code",
   "execution_count": 3,
   "metadata": {},
   "outputs": [],
   "source": [
    "# 실행되는지 테스트 -> 안되는 경우 가상환경 재실행 후 jupyter 다시 실행하기 \n",
    "from nets import cifarnet\n",
    "mynet = cifarnet.cifarnet"
   ]
  },
  {
   "cell_type": "code",
   "execution_count": null,
   "metadata": {},
   "outputs": [],
   "source": []
  }
 ],
 "metadata": {
  "kernelspec": {
   "display_name": "Python 3",
   "language": "python",
   "name": "python3"
  },
  "language_info": {
   "codemirror_mode": {
    "name": "ipython",
    "version": 3
   },
   "file_extension": ".py",
   "mimetype": "text/x-python",
   "name": "python",
   "nbconvert_exporter": "python",
   "pygments_lexer": "ipython3",
   "version": "3.6.10"
  }
 },
 "nbformat": 4,
 "nbformat_minor": 4
}
